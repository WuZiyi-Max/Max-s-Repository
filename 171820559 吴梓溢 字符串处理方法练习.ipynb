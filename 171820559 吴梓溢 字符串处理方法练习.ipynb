{
 "cells": [
  {
   "cell_type": "markdown",
   "metadata": {},
   "source": [
    "THE Republic of Plato is the longest of his works with the exception of\n",
    "the Laws, and is certainly the greatest of them.  There are nearer\n",
    "approaches to modern metaphysics in the Philebus and in the Sophist;\n",
    "the Politicus or Statesman is more ideal; the form and institutions of\n",
    "the State are more clearly drawn out in the Laws; as works of art, the\n",
    "Symposium and the Protagoras are of higher excellence.  But no other\n",
    "Dialogue of Plato has the same largeness of view and the same\n",
    "perfection of style; no other shows an equal knowledge of the world, or\n",
    "contains more of those thoughts which are new as well as old, and not\n",
    "of one age only but of all.  Nowhere in Plato is there a deeper irony\n",
    "or a greater wealth of humor or imagery, or more dramatic power.  Nor\n",
    "in any other of his writings is the attempt made to interweave life and\n",
    "speculation, or to connect politics with philosophy.  The Republic is\n",
    "the centre around which the other Dialogues may be grouped; here\n",
    "philosophy reaches the highest point to which ancient thinkers ever\n",
    "attained.  Plato among the Greeks, like Bacon among the moderns, was\n",
    "the first who conceived a method of knowledge, although neither of them\n",
    "always distinguished the bare outline or form from the substance of\n",
    "truth; and both of them had to be content with an abstraction of\n",
    "science which was not yet realized.  He was the greatest metaphysical\n",
    "genius whom the world has seen; and in him, more than in any other\n",
    "ancient thinker, the germs of future knowledge are contained.  The\n",
    "sciences of logic and psychology, which have supplied so many\n",
    "instruments of thought to after-ages, are based upon the analyses of\n",
    "Socrates and Plato.  The principles of definition, the law of\n",
    "contradiction, the fallacy of arguing in a circle, the distinction\n",
    "between the essence and accidents of a thing or notion, between means\n",
    "and ends, between causes and conditions; also the division of the mind\n",
    "into the rational, concupiscent, and irascible elements, or of\n",
    "pleasures and desires into necessary and unnecessary--these and other\n",
    "great forms of thought are all of them to be found in the Republic, and\n",
    "were probably first invented by Plato.  The greatest of all logical\n",
    "truths, and the one of which writers on philosophy are most apt to lose\n",
    "sight, the difference between words and things, has been most\n",
    "strenuously insisted on by him, although he has not always avoided the\n",
    "confusion of them in his own writings.  But he does not bind up truth\n",
    "in logical formulae,--logic is still veiled in metaphysics; and the\n",
    "science which he imagines to \"contemplate all truth and all existence\"\n",
    "is very unlike the doctrine of the syllogism which Aristotle claims to\n",
    "have discovered."
   ]
  },
  {
   "cell_type": "code",
   "execution_count": 27,
   "metadata": {},
   "outputs": [],
   "source": [
    "x = 'THE Republic of Plato is the longest of his works with the exception of the Laws, and is certainly the greatest of them. There are nearer approaches to modern metaphysics in the Philebus and in the Sophist; the Politicus or Statesman is more ideal; the form and institutions of the State are more clearly drawn out in the Laws; as works of art, the Symposium and the Protagoras are of higher excellence. But no other Dialogue of Plato has the same largeness of view and the same perfection of style; no other shows an equal knowledge of the world, or contains more of those thoughts which are new as well as old, and not of one age only but of all. Nowhere in Plato is there a deeper irony or a greater wealth of humor or imagery, or more dramatic power. Nor in any other of his writings is the attempt made to interweave life and speculation, or to connect politics with philosophy. The Republic is the centre around which the other Dialogues may be grouped; here philosophy reaches the highest point to which ancient thinkers ever attained. Plato among the Greeks, like Bacon among the moderns, was the first who conceived a method of knowledge, although neither of them always distinguished the bare outline or form from the substance of truth; and both of them had to be content with an abstraction of science which was not yet realized. He was the greatest metaphysical genius whom the world has seen; and in him, more than in any other ancient thinker, the germs of future knowledge are contained. The sciences of logic and psychology, which have supplied so many instruments of thought to after-ages, are based upon the analyses of Socrates and Plato. The principles of definition, the law of contradiction, the fallacy of arguing in a circle, the distinction between the essence and accidents of a thing or notion, between means and ends, between causes and conditions; also the division of the mind into the rational, concupiscent, and irascible elements, or of pleasures and desires into necessary and unnecessary--these and other great forms of thought are all of them to be found in the Republic, and were probably first invented by Plato. The greatest of all logical truths, and the one of which writers on philosophy are most apt to lose sight, the difference between words and things, has been most strenuously insisted on by him, although he has not always avoided the confusion of them in his own writings. But he does not bind up truth in logical formulae,--logic is still veiled in metaphysics; and the science which he imagines to \"contemplate all truth and all existence\" is very unlike the doctrine of the syllogism which Aristotle claims to have discovered.'\n"
   ]
  },
  {
   "cell_type": "code",
   "execution_count": 11,
   "metadata": {},
   "outputs": [
    {
     "data": {
      "text/plain": [
       "'THE REPUBLIC OF PLATO IS THE LONGEST OF HIS WORKS WITH THE EXCEPTION OF THE LAWS, AND IS CERTAINLY THE GREATEST OF THEM. THERE ARE NEARER APPROACHES TO MODERN METAPHYSICS IN THE PHILEBUS AND IN THE SOPHIST; THE POLITICUS OR STATESMAN IS MORE IDEAL; THE FORM AND INSTITUTIONS OF THE STATE ARE MORE CLEARLY DRAWN OUT IN THE LAWS; AS WORKS OF ART, THE SYMPOSIUM AND THE PROTAGORAS ARE OF HIGHER EXCELLENCE. BUT NO OTHER DIALOGUE OF PLATO HAS THE SAME LARGENESS OF VIEW AND THE SAME PERFECTION OF STYLE; NO OTHER SHOWS AN EQUAL KNOWLEDGE OF THE WORLD, OR CONTAINS MORE OF THOSE THOUGHTS WHICH ARE NEW AS WELL AS OLD, AND NOT OF ONE AGE ONLY BUT OF ALL. NOWHERE IN PLATO IS THERE A DEEPER IRONY OR A GREATER WEALTH OF HUMOR OR IMAGERY, OR MORE DRAMATIC POWER. NOR IN ANY OTHER OF HIS WRITINGS IS THE ATTEMPT MADE TO INTERWEAVE LIFE AND SPECULATION, OR TO CONNECT POLITICS WITH PHILOSOPHY. THE REPUBLIC IS THE CENTRE AROUND WHICH THE OTHER DIALOGUES MAY BE GROUPED; HERE PHILOSOPHY REACHES THE HIGHEST POINT TO WHICH ANCIENT THINKERS EVER ATTAINED. PLATO AMONG THE GREEKS, LIKE BACON AMONG THE MODERNS, WAS THE FIRST WHO CONCEIVED A METHOD OF KNOWLEDGE, ALTHOUGH NEITHER OF THEM ALWAYS DISTINGUISHED THE BARE OUTLINE OR FORM FROM THE SUBSTANCE OF TRUTH; AND BOTH OF THEM HAD TO BE CONTENT WITH AN ABSTRACTION OF SCIENCE WHICH WAS NOT YET REALIZED. HE WAS THE GREATEST METAPHYSICAL GENIUS WHOM THE WORLD HAS SEEN; AND IN HIM, MORE THAN IN ANY OTHER ANCIENT THINKER, THE GERMS OF FUTURE KNOWLEDGE ARE CONTAINED. THE SCIENCES OF LOGIC AND PSYCHOLOGY, WHICH HAVE SUPPLIED SO MANY INSTRUMENTS OF THOUGHT TO AFTER-AGES, ARE BASED UPON THE ANALYSES OF SOCRATES AND PLATO. THE PRINCIPLES OF DEFINITION, THE LAW OF CONTRADICTION, THE FALLACY OF ARGUING IN A CIRCLE, THE DISTINCTION BETWEEN THE ESSENCE AND ACCIDENTS OF A THING OR NOTION, BETWEEN MEANS AND ENDS, BETWEEN CAUSES AND CONDITIONS; ALSO THE DIVISION OF THE MIND INTO THE RATIONAL, CONCUPISCENT, AND IRASCIBLE ELEMENTS, OR OF PLEASURES AND DESIRES INTO NECESSARY AND UNNECESSARY--THESE AND OTHER GREAT FORMS OF THOUGHT ARE ALL OF THEM TO BE FOUND IN THE REPUBLIC, AND WERE PROBABLY FIRST INVENTED BY PLATO. THE GREATEST OF ALL LOGICAL TRUTHS, AND THE ONE OF WHICH WRITERS ON PHILOSOPHY ARE MOST APT TO LOSE SIGHT, THE DIFFERENCE BETWEEN WORDS AND THINGS, HAS BEEN MOST STRENUOUSLY INSISTED ON BY HIM, ALTHOUGH HE HAS NOT ALWAYS AVOIDED THE CONFUSION OF THEM IN HIS OWN WRITINGS. BUT HE DOES NOT BIND UP TRUTH IN LOGICAL FORMULAE,--LOGIC IS STILL VEILED IN METAPHYSICS; AND THE SCIENCE WHICH HE IMAGINES TO \"CONTEMPLATE ALL TRUTH AND ALL EXISTENCE\" IS VERY UNLIKE THE DOCTRINE OF THE SYLLOGISM WHICH ARISTOTLE CLAIMS TO HAVE DISCOVERED.'"
      ]
     },
     "execution_count": 11,
     "metadata": {},
     "output_type": "execute_result"
    }
   ],
   "source": [
    "x.upper()"
   ]
  },
  {
   "cell_type": "code",
   "execution_count": 29,
   "metadata": {},
   "outputs": [
    {
     "name": "stdout",
     "output_type": "stream",
     "text": [
      "THE REPUBLIC OF PLATO IS THE LONGEST OF HIS WORKS WITH THE EXCEPTION OF THE LAWS, AND IS CERTAINLY THE GREATEST OF THEM. THERE ARE NEARER APPROACHES TO MODERN METAPHYSICS IN THE PHILEBUS AND IN THE SOPHIST; THE POLITICUS OR STATESMAN IS MORE IDEAL; THE FORM AND INSTITUTIONS OF THE STATE ARE MORE CLEARLY DRAWN OUT IN THE LAWS; AS WORKS OF ART, THE SYMPOSIUM AND THE PROTAGORAS ARE OF HIGHER EXCELLENCE. BUT NO OTHER DIALOGUE OF PLATO HAS THE SAME LARGENESS OF VIEW AND THE SAME PERFECTION OF STYLE; NO OTHER SHOWS AN EQUAL KNOWLEDGE OF THE WORLD, OR CONTAINS MORE OF THOSE THOUGHTS WHICH ARE NEW AS WELL AS OLD, AND NOT OF ONE AGE ONLY BUT OF ALL. NOWHERE IN PLATO IS THERE A DEEPER IRONY OR A GREATER WEALTH OF HUMOR OR IMAGERY, OR MORE DRAMATIC POWER. NOR IN ANY OTHER OF HIS WRITINGS IS THE ATTEMPT MADE TO INTERWEAVE LIFE AND SPECULATION, OR TO CONNECT POLITICS WITH PHILOSOPHY. THE REPUBLIC IS THE CENTRE AROUND WHICH THE OTHER DIALOGUES MAY BE GROUPED; HERE PHILOSOPHY REACHES THE HIGHEST POINT TO WHICH ANCIENT THINKERS EVER ATTAINED. PLATO AMONG THE GREEKS, LIKE BACON AMONG THE MODERNS, WAS THE FIRST WHO CONCEIVED A METHOD OF KNOWLEDGE, ALTHOUGH NEITHER OF THEM ALWAYS DISTINGUISHED THE BARE OUTLINE OR FORM FROM THE SUBSTANCE OF TRUTH; AND BOTH OF THEM HAD TO BE CONTENT WITH AN ABSTRACTION OF SCIENCE WHICH WAS NOT YET REALIZED. HE WAS THE GREATEST METAPHYSICAL GENIUS WHOM THE WORLD HAS SEEN; AND IN HIM, MORE THAN IN ANY OTHER ANCIENT THINKER, THE GERMS OF FUTURE KNOWLEDGE ARE CONTAINED. THE SCIENCES OF LOGIC AND PSYCHOLOGY, WHICH HAVE SUPPLIED SO MANY INSTRUMENTS OF THOUGHT TO AFTER-AGES, ARE BASED UPON THE ANALYSES OF SOCRATES AND PLATO. THE PRINCIPLES OF DEFINITION, THE LAW OF CONTRADICTION, THE FALLACY OF ARGUING IN A CIRCLE, THE DISTINCTION BETWEEN THE ESSENCE AND ACCIDENTS OF A THING OR NOTION, BETWEEN MEANS AND ENDS, BETWEEN CAUSES AND CONDITIONS; ALSO THE DIVISION OF THE MIND INTO THE RATIONAL, CONCUPISCENT, AND IRASCIBLE ELEMENTS, OR OF PLEASURES AND DESIRES INTO NECESSARY AND UNNECESSARY--THESE AND OTHER GREAT FORMS OF THOUGHT ARE ALL OF THEM TO BE FOUND IN THE REPUBLIC, AND WERE PROBABLY FIRST INVENTED BY PLATO. THE GREATEST OF ALL LOGICAL TRUTHS, AND THE ONE OF WHICH WRITERS ON PHILOSOPHY ARE MOST APT TO LOSE SIGHT, THE DIFFERENCE BETWEEN WORDS AND THINGS, HAS BEEN MOST STRENUOUSLY INSISTED ON BY HIM, ALTHOUGH HE HAS NOT ALWAYS AVOIDED THE CONFUSION OF THEM IN HIS OWN WRITINGS. BUT HE DOES NOT BIND UP TRUTH IN LOGICAL FORMULAE,--LOGIC IS STILL VEILED IN METAPHYSICS; AND THE SCIENCE WHICH HE IMAGINES TO \"CONTEMPLATE ALL TRUTH AND ALL EXISTENCE\" IS VERY UNLIKE THE DOCTRINE OF THE SYLLOGISM WHICH ARISTOTLE CLAIMS TO HAVE DISCOVERED.\n"
     ]
    }
   ],
   "source": [
    "y = x.upper()\n",
    "\n",
    "print(y)"
   ]
  },
  {
   "cell_type": "code",
   "execution_count": 57,
   "metadata": {},
   "outputs": [
    {
     "name": "stdout",
     "output_type": "stream",
     "text": [
      "THE$REPUBLIC$OF$PLATO$IS$THE$LONGEST$OF$HIS$WORKS$WITH$THE$EXCEPTION$OF$THE$LAWS$AND$IS$CERTAINLY$THE$GREATEST$OF$THEM$THERE$ARE$NEARER$APPROACHES$TO$MODERN$METAPHYSICS$IN$THE$PHILEBUS$AND$IN$THE$SOPHIST$THE$POLITICUS$OR$STATESMAN$IS$MORE$IDEAL$THE$FORM$AND$INSTITUTIONS$OF$THE$STATE$ARE$MORE$CLEARLY$DRAWN$OUT$IN$THE$LAWS$AS$WORKS$OF$ART$THE$SYMPOSIUM$AND$THE$PROTAGORAS$ARE$OF$HIGHER$EXCELLENCE$BUT$NO$OTHER$DIALOGUE$OF$PLATO$HAS$THE$SAME$LARGENESS$OF$VIEW$AND$THE$SAME$PERFECTION$OF$STYLE$NO$OTHER$SHOWS$AN$EQUAL$KNOWLEDGE$OF$THE$WORLD$OR$CONTAINS$MORE$OF$THOSE$THOUGHTS$WHICH$ARE$NEW$AS$WELL$AS$OLD$AND$NOT$OF$ONE$AGE$ONLY$BUT$OF$ALL$NOWHERE$IN$PLATO$IS$THERE$A$DEEPER$IRONY$OR$A$GREATER$WEALTH$OF$HUMOR$OR$IMAGERY$OR$MORE$DRAMATIC$POWER$NOR$IN$ANY$OTHER$OF$HIS$WRITINGS$IS$THE$ATTEMPT$MADE$TO$INTERWEAVE$LIFE$AND$SPECULATION$OR$TO$CONNECT$POLITICS$WITH$PHILOSOPHY$THE$REPUBLIC$IS$THE$CENTRE$AROUND$WHICH$THE$OTHER$DIALOGUES$MAY$BE$GROUPED$HERE$PHILOSOPHY$REACHES$THE$HIGHEST$POINT$TO$WHICH$ANCIENT$THINKERS$EVER$ATTAINED$PLATO$AMONG$THE$GREEKS$LIKE$BACON$AMONG$THE$MODERNS$WAS$THE$FIRST$WHO$CONCEIVED$A$METHOD$OF$KNOWLEDGE$ALTHOUGH$NEITHER$OF$THEM$ALWAYS$DISTINGUISHED$THE$BARE$OUTLINE$OR$FORM$FROM$THE$SUBSTANCE$OF$TRUTH$AND$BOTH$OF$THEM$HAD$TO$BE$CONTENT$WITH$AN$ABSTRACTION$OF$SCIENCE$WHICH$WAS$NOT$YET$REALIZED$HE$WAS$THE$GREATEST$METAPHYSICAL$GENIUS$WHOM$THE$WORLD$HAS$SEEN$AND$IN$HIM$MORE$THAN$IN$ANY$OTHER$ANCIENT$THINKER$THE$GERMS$OF$FUTURE$KNOWLEDGE$ARE$CONTAINED$THE$SCIENCES$OF$LOGIC$AND$PSYCHOLOGY$WHICH$HAVE$SUPPLIED$SO$MANY$INSTRUMENTS$OF$THOUGHT$TO$AFTER-AGES$ARE$BASED$UPON$THE$ANALYSES$OF$SOCRATES$AND$PLATO$THE$PRINCIPLES$OF$DEFINITION$THE$LAW$OF$CONTRADICTION$THE$FALLACY$OF$ARGUING$IN$A$CIRCLE$THE$DISTINCTION$BETWEEN$THE$ESSENCE$AND$ACCIDENTS$OF$A$THING$OR$NOTION$BETWEEN$MEANS$AND$ENDS$BETWEEN$CAUSES$AND$CONDITIONS$ALSO$THE$DIVISION$OF$THE$MIND$INTO$THE$RATIONAL$CONCUPISCENT$AND$IRASCIBLE$ELEMENTS$OR$OF$PLEASURES$AND$DESIRES$INTO$NECESSARY$AND$UNNECESSARY$THESE$AND$OTHER$GREAT$FORMS$OF$THOUGHT$ARE$ALL$OF$THEM$TO$BE$FOUND$IN$THE$REPUBLIC$AND$WERE$PROBABLY$FIRST$INVENTED$BY$PLATO$THE$GREATEST$OF$ALL$LOGICAL$TRUTHS$AND$THE$ONE$OF$WHICH$WRITERS$ON$PHILOSOPHY$ARE$MOST$APT$TO$LOSE$SIGHT$THE$DIFFERENCE$BETWEEN$WORDS$AND$THINGS$HAS$BEEN$MOST$STRENUOUSLY$INSISTED$ON$BY$HIM$ALTHOUGH$HE$HAS$NOT$ALWAYS$AVOIDED$THE$CONFUSION$OF$THEM$IN$HIS$OWN$WRITINGS$BUT$HE$DOES$NOT$BIND$UP$TRUTH$IN$LOGICAL$FORMULAE$LOGIC$IS$STILL$VEILED$IN$METAPHYSICS$AND$THE$SCIENCE$WHICH$HE$IMAGINES$TO$CONTEMPLATE$ALL$TRUTH$AND$ALL$EXISTENCE$IS$VERY$UNLIKE$THE$DOCTRINE$OF$THE$SYLLOGISM$WHICH$ARISTOTLE$CLAIMS$TO$HAVE$DISCOVERED$\n"
     ]
    }
   ],
   "source": [
    "y.replace(',',' ').replace('.',' ').replace(';',' ').replace('--',' ').replace('\"',' ').replace('  ',' ')\n",
    "\n",
    "z = y.replace(',',' ').replace('.',' ').replace(';',' ').replace('--',' ').replace('\"',' ').replace('  ',' ').replace(' ','$')\n",
    "print(z)"
   ]
  },
  {
   "cell_type": "code",
   "execution_count": 59,
   "metadata": {},
   "outputs": [
    {
     "name": "stdout",
     "output_type": "stream",
     "text": [
      "['THE', 'REPUBLIC', 'OF', 'PLATO', 'IS', 'THE', 'LONGEST', 'OF', 'HIS', 'WORKS', 'WITH', 'THE', 'EXCEPTION', 'OF', 'THE', 'LAWS', 'AND', 'IS', 'CERTAINLY', 'THE', 'GREATEST', 'OF', 'THEM', 'THERE', 'ARE', 'NEARER', 'APPROACHES', 'TO', 'MODERN', 'METAPHYSICS', 'IN', 'THE', 'PHILEBUS', 'AND', 'IN', 'THE', 'SOPHIST', 'THE', 'POLITICUS', 'OR', 'STATESMAN', 'IS', 'MORE', 'IDEAL', 'THE', 'FORM', 'AND', 'INSTITUTIONS', 'OF', 'THE', 'STATE', 'ARE', 'MORE', 'CLEARLY', 'DRAWN', 'OUT', 'IN', 'THE', 'LAWS', 'AS', 'WORKS', 'OF', 'ART', 'THE', 'SYMPOSIUM', 'AND', 'THE', 'PROTAGORAS', 'ARE', 'OF', 'HIGHER', 'EXCELLENCE', 'BUT', 'NO', 'OTHER', 'DIALOGUE', 'OF', 'PLATO', 'HAS', 'THE', 'SAME', 'LARGENESS', 'OF', 'VIEW', 'AND', 'THE', 'SAME', 'PERFECTION', 'OF', 'STYLE', 'NO', 'OTHER', 'SHOWS', 'AN', 'EQUAL', 'KNOWLEDGE', 'OF', 'THE', 'WORLD', 'OR', 'CONTAINS', 'MORE', 'OF', 'THOSE', 'THOUGHTS', 'WHICH', 'ARE', 'NEW', 'AS', 'WELL', 'AS', 'OLD', 'AND', 'NOT', 'OF', 'ONE', 'AGE', 'ONLY', 'BUT', 'OF', 'ALL', 'NOWHERE', 'IN', 'PLATO', 'IS', 'THERE', 'A', 'DEEPER', 'IRONY', 'OR', 'A', 'GREATER', 'WEALTH', 'OF', 'HUMOR', 'OR', 'IMAGERY', 'OR', 'MORE', 'DRAMATIC', 'POWER', 'NOR', 'IN', 'ANY', 'OTHER', 'OF', 'HIS', 'WRITINGS', 'IS', 'THE', 'ATTEMPT', 'MADE', 'TO', 'INTERWEAVE', 'LIFE', 'AND', 'SPECULATION', 'OR', 'TO', 'CONNECT', 'POLITICS', 'WITH', 'PHILOSOPHY', 'THE', 'REPUBLIC', 'IS', 'THE', 'CENTRE', 'AROUND', 'WHICH', 'THE', 'OTHER', 'DIALOGUES', 'MAY', 'BE', 'GROUPED', 'HERE', 'PHILOSOPHY', 'REACHES', 'THE', 'HIGHEST', 'POINT', 'TO', 'WHICH', 'ANCIENT', 'THINKERS', 'EVER', 'ATTAINED', 'PLATO', 'AMONG', 'THE', 'GREEKS', 'LIKE', 'BACON', 'AMONG', 'THE', 'MODERNS', 'WAS', 'THE', 'FIRST', 'WHO', 'CONCEIVED', 'A', 'METHOD', 'OF', 'KNOWLEDGE', 'ALTHOUGH', 'NEITHER', 'OF', 'THEM', 'ALWAYS', 'DISTINGUISHED', 'THE', 'BARE', 'OUTLINE', 'OR', 'FORM', 'FROM', 'THE', 'SUBSTANCE', 'OF', 'TRUTH', 'AND', 'BOTH', 'OF', 'THEM', 'HAD', 'TO', 'BE', 'CONTENT', 'WITH', 'AN', 'ABSTRACTION', 'OF', 'SCIENCE', 'WHICH', 'WAS', 'NOT', 'YET', 'REALIZED', 'HE', 'WAS', 'THE', 'GREATEST', 'METAPHYSICAL', 'GENIUS', 'WHOM', 'THE', 'WORLD', 'HAS', 'SEEN', 'AND', 'IN', 'HIM', 'MORE', 'THAN', 'IN', 'ANY', 'OTHER', 'ANCIENT', 'THINKER', 'THE', 'GERMS', 'OF', 'FUTURE', 'KNOWLEDGE', 'ARE', 'CONTAINED', 'THE', 'SCIENCES', 'OF', 'LOGIC', 'AND', 'PSYCHOLOGY', 'WHICH', 'HAVE', 'SUPPLIED', 'SO', 'MANY', 'INSTRUMENTS', 'OF', 'THOUGHT', 'TO', 'AFTER-AGES', 'ARE', 'BASED', 'UPON', 'THE', 'ANALYSES', 'OF', 'SOCRATES', 'AND', 'PLATO', 'THE', 'PRINCIPLES', 'OF', 'DEFINITION', 'THE', 'LAW', 'OF', 'CONTRADICTION', 'THE', 'FALLACY', 'OF', 'ARGUING', 'IN', 'A', 'CIRCLE', 'THE', 'DISTINCTION', 'BETWEEN', 'THE', 'ESSENCE', 'AND', 'ACCIDENTS', 'OF', 'A', 'THING', 'OR', 'NOTION', 'BETWEEN', 'MEANS', 'AND', 'ENDS', 'BETWEEN', 'CAUSES', 'AND', 'CONDITIONS', 'ALSO', 'THE', 'DIVISION', 'OF', 'THE', 'MIND', 'INTO', 'THE', 'RATIONAL', 'CONCUPISCENT', 'AND', 'IRASCIBLE', 'ELEMENTS', 'OR', 'OF', 'PLEASURES', 'AND', 'DESIRES', 'INTO', 'NECESSARY', 'AND', 'UNNECESSARY', 'THESE', 'AND', 'OTHER', 'GREAT', 'FORMS', 'OF', 'THOUGHT', 'ARE', 'ALL', 'OF', 'THEM', 'TO', 'BE', 'FOUND', 'IN', 'THE', 'REPUBLIC', 'AND', 'WERE', 'PROBABLY', 'FIRST', 'INVENTED', 'BY', 'PLATO', 'THE', 'GREATEST', 'OF', 'ALL', 'LOGICAL', 'TRUTHS', 'AND', 'THE', 'ONE', 'OF', 'WHICH', 'WRITERS', 'ON', 'PHILOSOPHY', 'ARE', 'MOST', 'APT', 'TO', 'LOSE', 'SIGHT', 'THE', 'DIFFERENCE', 'BETWEEN', 'WORDS', 'AND', 'THINGS', 'HAS', 'BEEN', 'MOST', 'STRENUOUSLY', 'INSISTED', 'ON', 'BY', 'HIM', 'ALTHOUGH', 'HE', 'HAS', 'NOT', 'ALWAYS', 'AVOIDED', 'THE', 'CONFUSION', 'OF', 'THEM', 'IN', 'HIS', 'OWN', 'WRITINGS', 'BUT', 'HE', 'DOES', 'NOT', 'BIND', 'UP', 'TRUTH', 'IN', 'LOGICAL', 'FORMULAE', 'LOGIC', 'IS', 'STILL', 'VEILED', 'IN', 'METAPHYSICS', 'AND', 'THE', 'SCIENCE', 'WHICH', 'HE', 'IMAGINES', 'TO', 'CONTEMPLATE', 'ALL', 'TRUTH', 'AND', 'ALL', 'EXISTENCE', 'IS', 'VERY', 'UNLIKE', 'THE', 'DOCTRINE', 'OF', 'THE', 'SYLLOGISM', 'WHICH', 'ARISTOTLE', 'CLAIMS', 'TO', 'HAVE', 'DISCOVERED', '']\n"
     ]
    }
   ],
   "source": [
    "str = z\n",
    "alist = str.split('$')\n",
    "print(alist)"
   ]
  },
  {
   "cell_type": "code",
   "execution_count": 60,
   "metadata": {},
   "outputs": [
    {
     "data": {
      "text/plain": [
       "466"
      ]
     },
     "execution_count": 60,
     "metadata": {},
     "output_type": "execute_result"
    }
   ],
   "source": [
    "len(alist)"
   ]
  }
 ],
 "metadata": {
  "kernelspec": {
   "display_name": "Python 3",
   "language": "python",
   "name": "python3"
  },
  "language_info": {
   "codemirror_mode": {
    "name": "ipython",
    "version": 3
   },
   "file_extension": ".py",
   "mimetype": "text/x-python",
   "name": "python",
   "nbconvert_exporter": "python",
   "pygments_lexer": "ipython3",
   "version": "3.7.4"
  }
 },
 "nbformat": 4,
 "nbformat_minor": 2
}
